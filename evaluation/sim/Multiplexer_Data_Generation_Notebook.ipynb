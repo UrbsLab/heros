{
 "cells": [
  {
   "cell_type": "markdown",
   "id": "4250a8c3",
   "metadata": {},
   "source": [
    "# Multiplexer Data Generation\n",
    "This notebook is set up to generate multiplexer datasets for experimental evaluation. "
   ]
  },
  {
   "cell_type": "markdown",
   "id": "8edd8d78",
   "metadata": {},
   "source": [
    "***\n",
    "## Imports:"
   ]
  },
  {
   "cell_type": "code",
   "execution_count": 1,
   "id": "e116475e",
   "metadata": {},
   "outputs": [
    {
     "name": "stdout",
     "output_type": "stream",
     "text": [
      "c:\\Users\\ryanu\\Documents\\GitHub\\scikit-heros\n"
     ]
    }
   ],
   "source": [
    "import os\n",
    "import random\n",
    "from pprint import pformat as pf #for pickle debugging\n",
    "import numpy as np\n",
    "import pandas as pd\n",
    "\n",
    "# If pip installed\n",
    "#from skheros.heros import HEROS\n",
    "# If locally run\n",
    "from src.skheros.heros import HEROS\n",
    "\n",
    "current_working_directory = os.getcwd()\n",
    "print(current_working_directory)"
   ]
  },
  {
   "cell_type": "markdown",
   "id": "5f76d492",
   "metadata": {},
   "source": [
    "***\n",
    "## Set Up Local Run Parameters\n"
   ]
  },
  {
   "cell_type": "code",
   "execution_count": 2,
   "id": "6ebd4719",
   "metadata": {},
   "outputs": [],
   "source": [
    "local_save = False\n",
    "folder_path = 'C:/Users/ryanu/Desktop/MultiplexerData'\n",
    "output_name = 'demo'\n",
    "if not os.path.exists(folder_path):\n",
    "        os.makedirs(folder_path)\n",
    "if local_save:\n",
    "    output_folder = './output'\n",
    "else:\n",
    "    output_folder = folder_path"
   ]
  },
  {
   "cell_type": "code",
   "execution_count": 3,
   "id": "083597d1",
   "metadata": {},
   "outputs": [],
   "source": [
    "def solve_equation(num_bits):\n",
    "    for i in range(1000):\n",
    "        if i+2**i==num_bits:\n",
    "            return i\n",
    "    return None\n",
    "\n",
    "\n",
    "def generate_multiplexer_instance(num_bits):\n",
    "    \"\"\" \"\"\"\n",
    "    first=solve_equation(num_bits)\n",
    "    if first==None:\n",
    "        print(\"Problem_Multiplexer: ERROR - The multiplexer takes # of bits as 3,6,11,20,37,70,135,264\")\n",
    "        \n",
    "    else:\n",
    "        condition = []\n",
    "        #Generate random boolean string\n",
    "        for i in range(num_bits):\n",
    "            condition.append(str(random.randint(0,1)))\n",
    "            \n",
    "        gates=\"\"\n",
    "        \n",
    "        for j in range(first):\n",
    "            gates+=condition[j]\n",
    "        \n",
    "        gates_decimal=int(gates,2)\n",
    "        outcome=condition[first+gates_decimal]\n",
    "        group = gates_decimal\n",
    "\n",
    "        return condition,outcome,group\n",
    "    \n",
    "\n",
    "def generate_mulitplexer_data(outpath, unique_name, num_bits, instances, show_group=False,show_instanceID=False):\n",
    "    \"\"\" Generate n-bit multiplexer dataset with (balanced classes) with target n-bits (3,6,11,20,37,70,135,264) and specified number of instances.\"\"\"\n",
    "    first=solve_equation(num_bits)\n",
    "    if first==None:\n",
    "        print(\"Problem_Multiplexer: ERROR - The multiplexer takes # of bits as 3,6,11,20,37,70,135,264\")\n",
    "        \n",
    "    else:\n",
    "        #Make dataset header\n",
    "        columns = []\n",
    "        for i in range(first):\n",
    "            columns.append('A_'+str(i)) #Address Bits\n",
    "        for i in range(num_bits-first):\n",
    "            columns.append('R_'+str(i)) #Register Bits\n",
    "        columns.append(\"Class\") \n",
    "        if show_group:\n",
    "            columns.append(\"Group\")\n",
    "        if show_instanceID:\n",
    "            columns.append('InstanceID')\n",
    "\n",
    "        #Make instances\n",
    "        rows_list = [] #temporarily stores all instances as a list of lists.\n",
    "        class_0_count = 0\n",
    "        class_1_count = 0\n",
    "        target_class_count = int(instances/2.0)\n",
    "        for i in range(instances):\n",
    "            generate = True\n",
    "            while generate:\n",
    "                condition,outcome,group = generate_multiplexer_instance(num_bits)\n",
    "                if (class_0_count < target_class_count) and int(outcome) == 0:\n",
    "                    generate = False\n",
    "                if (class_1_count < target_class_count) and int(outcome) == 1:\n",
    "                    generate = False\n",
    "            if int(outcome) == 0:\n",
    "                class_0_count += 1\n",
    "            if int(outcome) == 1:\n",
    "                class_1_count += 1\n",
    "            #Format instance\n",
    "            row_list = condition\n",
    "            row_list.append(outcome) #add outcome\n",
    "            if show_group:\n",
    "                row_list.append(group) #add group\n",
    "            if show_instanceID:\n",
    "                row_list.append(str(i+1))\n",
    "            rows_list.append(row_list)\n",
    "    \n",
    "    df = pd.DataFrame(rows_list, columns=columns)\n",
    "    df.to_csv(outpath+'/multiplexer_'+str(num_bits)+'_bit_'+str(instances)+'_inst_'+str(unique_name)+'.txt', sep='\\t', index=False)\n"
   ]
  },
  {
   "cell_type": "code",
   "execution_count": 4,
   "id": "223a74b4",
   "metadata": {},
   "outputs": [],
   "source": [
    "bits = [6,11,20,37,70,135]\n",
    "instances = [500,5000,10000,10000,20000,20000]\n",
    "replicates = 1\n",
    "\n",
    "for i in range(len(bits)):\n",
    "    for replicate in range(0,replicates):\n",
    "        filename = str(replicate)+'_rep'\n",
    "        generate_mulitplexer_data(output_folder,filename, bits[i], instances[i],show_group=True,show_instanceID=True)\n"
   ]
  },
  {
   "cell_type": "code",
   "execution_count": 5,
   "id": "92010598",
   "metadata": {},
   "outputs": [],
   "source": [
    "def generate_complete_multiplexer_data(outpath, unique_name, num_bits, show_group=False,show_instanceID=False):\n",
    "    \"\"\" Attempts to generate a complete non-redundant multiplexer dataset.  Ability to generate the entire dataset is computationally limited. \n",
    "     We had success generating up to the complete 20-multiplexer dataset\"\"\"\n",
    "     \n",
    "    print(\"Problem_Multiplexer: Attempting to generate multiplexer dataset\")\n",
    "    first=solve_equation(num_bits)\n",
    "    \n",
    "    if first==None:\n",
    "        print(\"Problem_Multiplexer: ERROR - The multiplexer takes # of bits as 3,6,11,20,37,70,135,264\")\n",
    "        \n",
    "    else:\n",
    "        try:\n",
    "            #Make dataset header\n",
    "            columns = []\n",
    "            for i in range(first):\n",
    "                columns.append('A_'+str(i)) #Address Bits\n",
    "            for i in range(num_bits-first):\n",
    "                columns.append('R_'+str(i)) #Register Bits\n",
    "            columns.append(\"Class\") \n",
    "            if show_group:\n",
    "                columns.append(\"Group\")\n",
    "            if show_instanceID:\n",
    "                columns.append('InstanceID')\n",
    "\n",
    "            #Make instances\n",
    "            rows_list = [] #temporarily stores all instances as a list of lists.\n",
    "            for i in range(2**num_bits):\n",
    "                binary_str=bin(i)\n",
    "                string_array=binary_str.split('b')\n",
    "                binary=string_array[1]\n",
    "                \n",
    "                while len(binary)<num_bits:\n",
    "                    binary=\"0\" + binary\n",
    "                    \n",
    "                gates=\"\"\n",
    "                for j in range(first):\n",
    "                    gates+=binary[j]\n",
    "                \n",
    "                gates_decimal=int(gates,2)\n",
    "                outcome=binary[first+gates_decimal]\n",
    "\n",
    "                #Format instance\n",
    "                row_list = list(binary)\n",
    "                row_list.append(outcome) #add outcome\n",
    "                group = gates_decimal\n",
    "                if show_group:\n",
    "                    row_list.append(group) #add group\n",
    "                if show_instanceID:\n",
    "                    row_list.append(str(i+1))\n",
    "                rows_list.append(row_list)\n",
    "\n",
    "            df = pd.DataFrame(rows_list, columns=columns)\n",
    "            df.to_csv(outpath+'/multiplexer_'+str(num_bits)+'_bit_complete.txt', sep='\\t', index=False)\n",
    "            \n",
    "        except:\n",
    "            print(\"Problem_Multiplexer: ERROR - Cannot generate all data instances for specified multiplexer due to computational limitations\")\n",
    "            \n",
    "            "
   ]
  },
  {
   "cell_type": "code",
   "execution_count": 6,
   "id": "a11c3831",
   "metadata": {},
   "outputs": [
    {
     "name": "stdout",
     "output_type": "stream",
     "text": [
      "Problem_Multiplexer: Attempting to generate multiplexer dataset\n",
      "Problem_Multiplexer: Attempting to generate multiplexer dataset\n",
      "Problem_Multiplexer: Attempting to generate multiplexer dataset\n"
     ]
    }
   ],
   "source": [
    "bits = [6,11,20]\n",
    "folder_path = 'C:/Users/ryanu/Desktop/MultiplexerCompleteData'\n",
    "for i in range(len(bits)):\n",
    "    generate_complete_multiplexer_data(folder_path,filename, bits[i], show_group=True,show_instanceID=True)"
   ]
  }
 ],
 "metadata": {
  "kernelspec": {
   "display_name": "base",
   "language": "python",
   "name": "python3"
  },
  "language_info": {
   "codemirror_mode": {
    "name": "ipython",
    "version": 3
   },
   "file_extension": ".py",
   "mimetype": "text/x-python",
   "name": "python",
   "nbconvert_exporter": "python",
   "pygments_lexer": "ipython3",
   "version": "3.12.7"
  }
 },
 "nbformat": 4,
 "nbformat_minor": 5
}
